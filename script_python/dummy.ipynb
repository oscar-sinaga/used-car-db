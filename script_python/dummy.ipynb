{
 "cells": [
  {
   "cell_type": "code",
   "execution_count": 1,
   "metadata": {},
   "outputs": [
    {
     "name": "stdout",
     "output_type": "stream",
     "text": [
      "Collecting faker\n",
      "  Downloading Faker-23.2.1-py3-none-any.whl (1.7 MB)\n",
      "     ---------------------------------------- 1.7/1.7 MB 782.9 kB/s eta 0:00:00\n",
      "Requirement already satisfied: python-dateutil>=2.4 in c:\\users\\admin\\appdata\\roaming\\python\\python310\\site-packages (from faker) (2.8.2)\n",
      "Requirement already satisfied: six>=1.5 in c:\\users\\admin\\appdata\\roaming\\python\\python310\\site-packages (from python-dateutil>=2.4->faker) (1.16.0)\n",
      "Installing collected packages: faker\n",
      "Successfully installed faker-23.2.1\n"
     ]
    },
    {
     "name": "stderr",
     "output_type": "stream",
     "text": [
      "\n",
      "[notice] A new release of pip available: 22.3.1 -> 24.0\n",
      "[notice] To update, run: python.exe -m pip install --upgrade pip\n"
     ]
    }
   ],
   "source": [
    "!pip install faker"
   ]
  },
  {
   "cell_type": "code",
   "execution_count": 3,
   "metadata": {},
   "outputs": [],
   "source": [
    "import warnings\n",
    "# Hiding all warnings\n",
    "warnings.filterwarnings(\"ignore\")\n",
    "import pandas as pd\n",
    "from faker import Faker\n",
    "from datetime import datetime, timedelta\n",
    "import time\n",
    "\n",
    "fake = Faker('id_ID')\n",
    "\n",
    "import random"
   ]
  },
  {
   "cell_type": "code",
   "execution_count": 1,
   "metadata": {},
   "outputs": [],
   "source": [
    "# Function to generate random data with proportional distribution\n",
    "def proportional_random(data_to_random, data_total, lower_bound_weight=10, upper_bound_weight=15):\n",
    "    # Generating random proportions for each element\n",
    "    weights = [random.randint(lower_bound_weight, upper_bound_weight) for _ in range(len(data_to_random))]\n",
    "    # Selecting data randomly with specific proportions\n",
    "    data_selected = random.choices(data_to_random, weights=weights, k=data_total)\n",
    "    \n",
    "    return data_selected\n",
    "\n",
    "# Function to generate fake phone numbers\n",
    "def generate_fake_phone_number():\n",
    "    # Generating 9 random digits as a phone number\n",
    "    phone_number = ''.join([str(random.randint(0, 9)) for _ in range(10)])\n",
    "    \n",
    "    # Combining country code and phone number\n",
    "    fake_phone_number = '08' + phone_number\n",
    "    \n",
    "    return fake_phone_number\n",
    "\n",
    "# Function to generate a random title for a car advertisement\n",
    "def random_title(model, year):\n",
    "    list_used_cars = [f\"Dijual mobil {model} tahun {year}, kondisi sangat terawat. Siap antar jalan-jalan keluarga!\",\n",
    "        f\"Dijual mobil {model} tahun {year}, pemakaian pribadi, kilometer rendah. Jaminan performa dan kenyamanan!\",\n",
    "        f\"Dijual mobil {model} tahun {year}, tampilan stylish dan performa tangguh. Siap temani petualanganmu!\",\n",
    "        f\"Dijual mobil {model} tahun {year}, ruang interior luas untuk keluarga. Dijamin nyaman dan ekonomis!\",\n",
    "        f\"Dijual mobil {model} tahun {year}, kuat dan andal di segala medan. Cocok untuk petualangan di alam terbuka!\",\n",
    "        f\"Dijual mobil {model} tahun {year}, tangguh dengan desain elegan. Siap menemani perjalananmu!\",\n",
    "        f\"Dijual mobil {model} tahun {year}, gabungan sempurna antara performa dan kemewahan. Pengalaman berkendara yang luar biasa!\",\n",
    "        f\"Dijual mobil {model} tahun {year}, desain kompak dengan fitur canggih. Solusi tepat untuk mobilitas perkotaan!\",\n",
    "        f\"Dijual mobil {model} tahun {year}, gaya modern dengan teknologi terkini. Dijamin memikat perhatian di jalan!\",\n",
    "        f\"Dijual mobil {model} tahun {year}, simbol kemewahan dan prestise. Pengalaman berkendara yang tak terlupakan!\"\n",
    "    ]\n",
    "\n",
    "    random_index = random.randint(0, len(list_used_cars)-1)\n",
    "    random_title = list_used_cars[random_index]\n",
    "    return random_title\n",
    "\n",
    "# Function to generate a random title based on product details\n",
    "def random_title_based_on_product_id(product_detail, product_detail_id):\n",
    "    model = product_detail[product_detail['product_detail_id'] == product_detail_id]['model'].values[0]\n",
    "    year = product_detail[product_detail['product_detail_id'] == product_detail_id]['year'].values[0]\n",
    "\n",
    "    result = random_title(model, year)\n",
    "    return result\n",
    "\n",
    "# Function to establish one-step relation between tables\n",
    "def relation_one_step(table_to, from_column, to_column, from_value):\n",
    "    result = table_to[table_to[from_column] == from_value][to_column].values[0]\n",
    "    return result\n",
    "\n",
    "# Function to establish two-step relation between tables\n",
    "def relation_two_step(table_to_step_1, table_to_step_2, from_column, to_column_step_1, to_column_step_2, from_value):\n",
    "    result_step_1 = relation_one_step(table_to_step_1, from_column, to_column_step_1, from_value)\n",
    "    result_step_2 = relation_one_step(table_to_step_2, to_column_step_1, to_column_step_2, result_step_1)\n",
    "    return result_step_2\n",
    "\n",
    "# Function to generate a bid price for a product\n",
    "def bid_product_price(product_id):\n",
    "    advertisement_id_price = relation_two_step(product, product_detail, 'product_id', 'product_detail_id', 'price', product_id)\n",
    "    price_after_bid = advertisement_id_price * random.randint(8500, 9500) * 0.0001\n",
    "    return int(price_after_bid)\n",
    "\n",
    "# Function to generate a random bid date for a product\n",
    "def random_date_bid(product_id):\n",
    "    date_post = relation_one_step(product, 'product_id', 'date_post', product_id)\n",
    "    date_bid = date_post + timedelta(days=random.randint(1, 365))\n",
    "    return date_bid.strftime(\"%Y-%m-%d\")"
   ]
  },
  {
   "cell_type": "code",
   "execution_count": 199,
   "metadata": {},
   "outputs": [],
   "source": [
    "def generate_fake_phone_number():\n",
    "    # Menghasilkan 9 angka acak sebagai nomor telepon\n",
    "    phone_number = ''.join([str(random.randint(0, 9)) for _ in range(10)])\n",
    "    \n",
    "    # Menggabungkan kode negara dan nomor telepon\n",
    "    fake_phone_number = '08' + phone_number\n",
    "    \n",
    "    return fake_phone_number"
   ]
  },
  {
   "cell_type": "code",
   "execution_count": 200,
   "metadata": {},
   "outputs": [],
   "source": [
    "def random_title(model,year):\n",
    "    list_mobil_bekas = [\n",
    "        f\"Dijual mobil {model} tahun {year}, kondisi sangat terawat. Siap antar jalan-jalan keluarga!\",\n",
    "        f\"Dijual mobil {model} tahun {year}, pemakaian pribadi, kilometer rendah. Jaminan performa dan kenyamanan!\",\n",
    "        f\"Dijual mobil {model} tahun {year}, tampilan stylish dan performa tangguh. Siap temani petualanganmu!\",\n",
    "        f\"Dijual mobil {model} tahun {year}, ruang interior luas untuk keluarga. Dijamin nyaman dan ekonomis!\",\n",
    "        f\"Dijual mobil {model} tahun {year}, kuat dan andal di segala medan. Cocok untuk petualangan di alam terbuka!\",\n",
    "        f\"Dijual mobil {model} tahun {year}, tangguh dengan desain elegan. Siap menemani perjalananmu!\",\n",
    "        f\"Dijual mobil {model} tahun {year}, gabungan sempurna antara performa dan kemewahan. Pengalaman berkendara yang luar biasa!\",\n",
    "        f\"Dijual mobil {model} tahun {year}, desain kompak dengan fitur canggih. Solusi tepat untuk mobilitas perkotaan!\",\n",
    "        f\"Dijual mobil {model} tahun {year}, gaya modern dengan teknologi terkini. Dijamin memikat perhatian di jalan!\",\n",
    "        f\"Dijual mobil {model} tahun {year}, simbol kemewahan dan prestise. Pengalaman berkendara yang tak terlupakan!\"\n",
    "    ]\n",
    "\n",
    "    random_index = random.randint(0, len(list_mobil_bekas)-1)\n",
    "    random_title = list_mobil_bekas[random_index]\n",
    "    return random_title\n"
   ]
  },
  {
   "cell_type": "code",
   "execution_count": 4,
   "metadata": {},
   "outputs": [
    {
     "name": "stdout",
     "output_type": "stream",
     "text": [
      "Dummy dataset has been created\n"
     ]
    }
   ],
   "source": [
    "print(\"Start creating dummy dataset \")\n",
    "\n",
    "# Start and end dates\n",
    "date_start = datetime(2022, 2, 25)\n",
    "date_end = datetime(2023, 2, 25)\n",
    "\n",
    "# Reading city and product detail data\n",
    "city = pd.read_csv('../dummy_dataset_from_pacmann/city - city.csv')\n",
    "city = city.rename(columns={'kota_id': 'city_id', 'nama_kota': 'city_name'})\n",
    "product_detail = pd.read_csv(\"../dummy_dataset_from_pacmann/car_product - car_product.csv\").rename(columns={'product_id': 'product_detail_id'})\n",
    "city_id = city['city_id'].values\n",
    "product_detail_id = product_detail['product_detail_id'].values\n",
    "\n",
    "# Creating seller dataset\n",
    "seller = pd.DataFrame()\n",
    "total_seller = 150\n",
    "seller['seller_id'] = [i+1 for i in range(total_seller)]\n",
    "seller['seller_name'] = [fake.name() for i in range(total_seller)]\n",
    "seller['seller_contact'] = [generate_fake_phone_number() for i in range(total_seller)]\n",
    "seller['city_id'] = proportional_random(city_id, total_seller)\n",
    "seller_id = seller['seller_id'].values\n",
    "\n",
    "# Creating buyer dataset\n",
    "buyer = pd.DataFrame()\n",
    "total_buyer = 150\n",
    "buyer['buyer_id'] = [i+1 for i in range(total_buyer)]\n",
    "buyer['buyer_name'] = [fake.name() for i in range(total_buyer)]\n",
    "buyer['buyer_contact'] = [generate_fake_phone_number() for i in range(total_buyer)]\n",
    "buyer['city_id'] = proportional_random(city_id, total_buyer)\n",
    "buyer_id = buyer['buyer_id'].values\n",
    "\n",
    "# Creating product dataset\n",
    "product = pd.DataFrame()\n",
    "total_advertisement = 1500\n",
    "product['product_id'] = [i+1 for i in range(total_advertisement)]\n",
    "product['product_detail_id'] = proportional_random(product_detail_id, total_advertisement)\n",
    "product['seller_id'] = proportional_random(seller_id, total_advertisement)\n",
    "product['title'] = [random_title_based_on_product_id(product_detail, product['product_detail_id'].iloc[i]) for i in range(total_advertisement)]\n",
    "product['date_post'] = [fake.date_between_dates(date_start=date_start, date_end=date_end) for i in range(total_advertisement)]\n",
    "product_id = product_id = product['product_id'].values\n",
    "\n",
    "# Creating bid dataset\n",
    "bid = pd.DataFrame()\n",
    "total_bid = 1500\n",
    "bid['bid_id'] = [i+1 for i in range(total_bid)]\n",
    "bid['product_id'] = proportional_random(product_id, total_bid)\n",
    "bid['buyer_id'] = proportional_random(buyer_id, total_bid, 100, 110)\n",
    "bid['date_bid'] = bid['product_id'].apply(random_date_bid)\n",
    "bid['bid_price'] = bid['product_id'].apply(bid_product_price)\n",
    "bid_status = ['Sent', 'Declined']\n",
    "bid['bid_status'] = proportional_random(bid_status, total_bid)\n",
    "\n",
    "# Exporting datasets to CSV files\n",
    "#city.to_csv('../dummy_dataset/city.csv', index=False)\n",
    "#product_detail.to_csv('../dummy_dataset/product_detail.csv', index=False)\n",
    "#seller.to_csv('../dummy_dataset/seller.csv', index=False)\n",
    "#buyer.to_csv('../dummy_dataset/buyer.csv',index=False)\n",
    "#product.to_csv('../dummy_dataset/product.csv', index=False)\n",
    "#bid.to_csv('../dummy_dataset/bid.csv', index=False)\n",
    "\n",
    "print(\"Dummy dataset has been created\")\n",
    "time.sleep(3)"
   ]
  },
  {
   "cell_type": "code",
   "execution_count": 6,
   "metadata": {},
   "outputs": [],
   "source": [
    "buyer.to_csv(f'buyer.csv',index=False)"
   ]
  }
 ],
 "metadata": {
  "kernelspec": {
   "display_name": "Python 3",
   "language": "python",
   "name": "python3"
  },
  "language_info": {
   "codemirror_mode": {
    "name": "ipython",
    "version": 3
   },
   "file_extension": ".py",
   "mimetype": "text/x-python",
   "name": "python",
   "nbconvert_exporter": "python",
   "pygments_lexer": "ipython3",
   "version": "3.10.10"
  }
 },
 "nbformat": 4,
 "nbformat_minor": 2
}
